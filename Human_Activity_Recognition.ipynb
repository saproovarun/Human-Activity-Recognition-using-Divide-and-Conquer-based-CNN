{
 "cells": [
  {
   "cell_type": "code",
   "execution_count": 1,
   "metadata": {
    "colab": {
     "base_uri": "https://localhost:8080/",
     "height": 63
    },
    "colab_type": "code",
    "id": "Q1_KvWKnUuSr",
    "outputId": "7e3164cb-6250-476f-f557-db05d516e5c9"
   },
   "outputs": [],
   "source": [
    "import tensorflow as tf\n",
    "import numpy as np\n",
    "import glob\n",
    "import os\n",
    "import pandas as pd\n",
    "tf.compat.v1.reset_default_graph()\n",
    "tf.compat.v1.disable_eager_execution()\n",
    "from tensorflow.keras.models import Sequential\n",
    "from tensorflow.keras.layers import Dense, Softmax, Bidirectional, Dropout, Conv1D, MaxPooling1D, Flatten\n",
    "from tensorflow.keras.utils import to_categorical\n",
    "from sklearn.tree import DecisionTreeClassifier\n",
    "from sklearn.model_selection import GridSearchCV\n",
    "from tensorflow.keras.wrappers.scikit_learn import KerasClassifier\n",
    "from sklearn.metrics import confusion_matrix \n",
    "from sklearn.preprocessing import LabelEncoder\n",
    "from sklearn.metrics import accuracy_score\n",
    "import warnings\n",
    "import seaborn as snb\n",
    "import matplotlib.pyplot as plt\n",
    "\n",
    "warnings.filterwarnings(\"ignore\")"
   ]
  },
  {
   "cell_type": "code",
   "execution_count": 11,
   "metadata": {
    "colab": {},
    "colab_type": "code",
    "id": "emdohkRFmw9o"
   },
   "outputs": [],
   "source": [
    "train_df = pd.read_csv('train.csv')\n",
    "test_df = pd.read_csv('test.csv')\n",
    "\n",
    "le = LabelEncoder()\n",
    "le.fit(train_df['ActivityName'])\n",
    "\n",
    "train_df['ActivityName'] = le.transform(train_df['ActivityName'])\n",
    "test_df['ActivityName'] = le.transform(test_df['ActivityName'])\n",
    "\n",
    "train_df = train_df.drop(columns = ['subject', 'Activity']).rename(columns = {'ActivityName':'AN'})\n",
    "test_df = test_df.drop(columns = ['subject', 'Activity']).rename(columns = {'ActivityName':'AN'})"
   ]
  },
  {
   "cell_type": "code",
   "execution_count": 12,
   "metadata": {
    "colab": {},
    "colab_type": "code",
    "id": "Y6Oz4JVeqP5B"
   },
   "outputs": [],
   "source": [
    "(train, train_labels) = (train_df.values[:, :-1], train_df.values[:, -1])\n",
    "(test, test_labels) = (test_df.values[:, :-1], test_df.values[:, -1])\n",
    "binary_train_labels = np.zeros(train_labels.shape)\n",
    "binary_train_labels = np.where(train_labels>2, binary_train_labels, binary_train_labels+1)\n",
    "\n",
    "binary_test_labels = np.zeros(test_labels.shape)\n",
    "binary_test_labels = np.where(test_labels>2, binary_test_labels, binary_test_labels+1)\n"
   ]
  },
  {
   "cell_type": "code",
   "execution_count": 13,
   "metadata": {
    "colab": {},
    "colab_type": "code",
    "id": "pgRBmqyIvc-3"
   },
   "outputs": [],
   "source": [
    "_train = train_df[(train_df['AN'] == 3 ) | ( train_df['AN'] == 4) | (train_df['AN'] == 5)]\n",
    "_test = test_df[(test_df['AN'] == 3 ) | ( test_df['AN'] == 4) | (test_df['AN'] == 5)]\n",
    "(train_1, train_labels_1) = (_train.values[:, :-1], _train.values[:, -1])\n",
    "(test_1, test_labels_1) = (_test.values[:, :-1], _test.values[:, -1])\n",
    "train_1 = train_1.reshape((train_1.shape[0],  train_1.shape[1], 1))\n",
    "test_1 = test_1.reshape((test_1.shape[0],  test_1.shape[1], 1))\n",
    "train_labels_1 = to_categorical(train_labels_1)[:, 3:]\n",
    "test_labels_1 = to_categorical(test_labels_1)[:, 3:]\n",
    "\n",
    "##################################################################################################################\n",
    "\n",
    "_train = train_df[(train_df['AN'] == 0 ) | ( train_df['AN'] == 1) | (train_df['AN'] == 2)]\n",
    "_test = test_df[(test_df['AN'] == 0 ) | ( test_df['AN'] == 1) | (test_df['AN'] == 2)]\n",
    "(train_2, train_labels_2) = (_train.values[:, :-1], _train.values[:, -1])\n",
    "(test_2, test_labels_2) = (_test.values[:, :-1], _test.values[:, -1])\n",
    "train_2 = train_2.reshape((train_2.shape[0],  train_2.shape[1], 1))\n",
    "test_2 = test_2.reshape((test_2.shape[0],  test_2.shape[1], 1))\n",
    "train_labels_2 = to_categorical(train_labels_2)[:, :3]\n",
    "test_labels_2 = to_categorical(test_labels_2)[:, :3]\n"
   ]
  },
  {
   "cell_type": "code",
   "execution_count": 15,
   "metadata": {
    "colab": {},
    "colab_type": "code",
    "id": "I3l5IjpdmxAU"
   },
   "outputs": [],
   "source": [
    "#Refer \n",
    "#https://pdfs.semanticscholar.org/ddce/5ec101cfa6e86f033fccd979fdf16eea295c.pdf?_\n",
    "#ga=2.126002187.700161425.1574244098-690025771.1573697931\n",
    "\n",
    "def conv_1(batch_size = 32):\n",
    "    optimizer = tf.keras.optimizers.Adam()\n",
    "    conv_1d = Conv1D(filters = 100,input_shape = (561, 1) ,kernel_size = 3, strides = 1, padding = 'valid', \n",
    "                   activation = 'relu', kernel_initializer = 'glorot_normal')\n",
    "    pool = MaxPooling1D(pool_size = 3, strides = 3)\n",
    "    model = Sequential()\n",
    "    model.add(conv_1d)\n",
    "    model.add(pool)\n",
    "    model.add(Dropout(0.5))\n",
    "    model.add(Flatten())\n",
    "    model.add(Dense(units = 3, input_shape = (None, 3)))\n",
    "    model.add(Softmax())\n",
    "    model.compile(optimizer = optimizer, loss = 'categorical_crossentropy', metrics = ['accuracy'])\n",
    "    return model\n",
    "def conv_2(batch_size = 32):\n",
    "    optimizer = tf.keras.optimizers.Adam()\n",
    "    model = Sequential()\n",
    "    model.add(Conv1D(filters = 30,input_shape = (561, 1) ,kernel_size = 3, strides = 1, padding = 'valid', \n",
    "                   activation = 'relu', kernel_initializer = 'glorot_normal'))\n",
    "    model.add(Conv1D(filters = 50,kernel_size = 3, strides = 1, padding = 'valid', \n",
    "                   activation = 'relu', kernel_initializer = 'glorot_normal'))\n",
    "    model.add(Conv1D(filters = 100,kernel_size = 3, strides = 1, padding = 'valid', \n",
    "                     activation = 'relu', kernel_initializer = 'glorot_normal'))\n",
    "    model.add(Dropout(0.5))\n",
    "    model.add(Flatten())\n",
    "    model.add(Dense(units = 3, input_shape = (None, 3)))\n",
    "    model.add(Softmax())\n",
    "    model.compile(optimizer = optimizer, loss = 'categorical_crossentropy', metrics = ['accuracy'])\n",
    "    return model"
   ]
  },
  {
   "cell_type": "code",
   "execution_count": 18,
   "metadata": {
    "colab": {
     "base_uri": "https://localhost:8080/",
     "height": 105
    },
    "colab_type": "code",
    "id": "lt_6alqjmxF0",
    "outputId": "c877b0a6-3e00-400e-a775-83f57c93b529"
   },
   "outputs": [
    {
     "data": {
      "text/plain": [
       "<tensorflow.python.keras.callbacks.History at 0x13dd7f7b8>"
      ]
     },
     "execution_count": 18,
     "metadata": {},
     "output_type": "execute_result"
    }
   ],
   "source": [
    "model_1 = conv_1()\n",
    "model_1.fit(train_1, train_labels_1, batch_size = 32, epochs = 50, verbose = 0)"
   ]
  },
  {
   "cell_type": "code",
   "execution_count": 19,
   "metadata": {
    "colab": {
     "base_uri": "https://localhost:8080/",
     "height": 34
    },
    "colab_type": "code",
    "id": "LKyHafdYLYus",
    "outputId": "42a34977-e090-477c-bea6-5090835c8076"
   },
   "outputs": [
    {
     "data": {
      "text/plain": [
       "<tensorflow.python.keras.callbacks.History at 0x143cb6898>"
      ]
     },
     "execution_count": 19,
     "metadata": {},
     "output_type": "execute_result"
    }
   ],
   "source": [
    "model_2 = conv_2()\n",
    "model_2.fit(train_2, train_labels_2, batch_size = 32, epochs = 50, verbose = 0)"
   ]
  },
  {
   "cell_type": "code",
   "execution_count": 20,
   "metadata": {
    "colab": {
     "base_uri": "https://localhost:8080/",
     "height": 119
    },
    "colab_type": "code",
    "id": "0HPZUKW9WYgs",
    "outputId": "c163f92f-f4f1-4420-cd91-b6b531b85ac2"
   },
   "outputs": [
    {
     "data": {
      "text/plain": [
       "DecisionTreeClassifier(class_weight=None, criterion='gini', max_depth=None,\n",
       "                       max_features=None, max_leaf_nodes=None,\n",
       "                       min_impurity_decrease=0.0, min_impurity_split=None,\n",
       "                       min_samples_leaf=1, min_samples_split=2,\n",
       "                       min_weight_fraction_leaf=0.0, presort=False,\n",
       "                       random_state=None, splitter='best')"
      ]
     },
     "execution_count": 20,
     "metadata": {},
     "output_type": "execute_result"
    }
   ],
   "source": [
    "clf = DecisionTreeClassifier()\n",
    "clf.fit(train, binary_train_labels)"
   ]
  },
  {
   "cell_type": "code",
   "execution_count": 21,
   "metadata": {
    "colab": {},
    "colab_type": "code",
    "id": "U9ks0Wc52laM"
   },
   "outputs": [],
   "source": [
    "binary_predictions = clf.predict(test)\n",
    "indexes = np.where(binary_predictions == 0, True, False)\n",
    "dynamic_test_data = test[indexes][:,:,np.newaxis]\n",
    "static_test_data = test[~indexes][:,:,np.newaxis]"
   ]
  },
  {
   "cell_type": "code",
   "execution_count": 22,
   "metadata": {
    "colab": {},
    "colab_type": "code",
    "id": "IFArD1Sx4vQp"
   },
   "outputs": [],
   "source": [
    "p1 = model_1.predict(dynamic_test_data)\n",
    "p2 = model_2.predict(static_test_data)"
   ]
  },
  {
   "cell_type": "code",
   "execution_count": 23,
   "metadata": {
    "colab": {},
    "colab_type": "code",
    "id": "k3O8Fff2Pwqd"
   },
   "outputs": [],
   "source": [
    "labels = np.zeros(binary_predictions.shape)\n",
    "labels[indexes] = p1.argmax(axis = 1) + 3\n",
    "labels[~indexes] = p2.argmax(axis = 1)"
   ]
  },
  {
   "cell_type": "code",
   "execution_count": 24,
   "metadata": {
    "colab": {
     "base_uri": "https://localhost:8080/",
     "height": 34
    },
    "colab_type": "code",
    "id": "5rgPVxeyP5g0",
    "outputId": "2c13325a-c1c7-4676-b0c8-0b88f442a3c3"
   },
   "outputs": [
    {
     "name": "stdout",
     "output_type": "stream",
     "text": [
      "0.9524940617577197\n"
     ]
    }
   ],
   "source": [
    "print(accuracy_score(test_labels, labels))\n",
    "c_matrix = confusion_matrix(test_labels, labels)"
   ]
  },
  {
   "cell_type": "code",
   "execution_count": 25,
   "metadata": {
    "colab": {},
    "colab_type": "code",
    "id": "gMRdCCS-Lb94"
   },
   "outputs": [],
   "source": [
    "precision = c_matrix/c_matrix.sum(axis = 1).reshape((1, -1))\n",
    "recall = c_matrix/c_matrix.sum(axis = 0).reshape((-1, 1))"
   ]
  },
  {
   "cell_type": "code",
   "execution_count": 26,
   "metadata": {
    "colab": {
     "base_uri": "https://localhost:8080/",
     "height": 334
    },
    "colab_type": "code",
    "id": "po9yHven-UZx",
    "outputId": "fc83a010-92e0-4657-91fc-a9c54edc84bf"
   },
   "outputs": [
    {
     "data": {
      "image/png": "[encoded data removed]",
      "text/plain": [
       "<Figure size 720x360 with 2 Axes>"
      ]
     },
     "metadata": {
      "needs_background": "light"
     },
     "output_type": "display_data"
    }
   ],
   "source": [
    "plt.figure(figsize = (10, 5))\n",
    "snb.heatmap(c_matrix, annot = True, fmt = '.2f')\n",
    "plt.ylabel('Actual')\n",
    "plt.xlabel('Predicted')\n",
    "plt.show()\n"
   ]
  },
  {
   "cell_type": "code",
   "execution_count": 27,
   "metadata": {
    "colab": {},
    "colab_type": "code",
    "id": "EsyQlfj-NKlc"
   },
   "outputs": [],
   "source": [
    "strings = ['Precision', 'Recall']\n",
    "array = [precision, recall]"
   ]
  },
  {
   "cell_type": "code",
   "execution_count": 28,
   "metadata": {
    "colab": {
     "base_uri": "https://localhost:8080/",
     "height": 350
    },
    "colab_type": "code",
    "id": "Lk5ZJK25B50P",
    "outputId": "9bfffe50-8693-4e77-8856-ea7814380a5f"
   },
   "outputs": [
    {
     "data": {
      "image/png": "[encoded data removed]",
      "text/plain": [
       "<Figure size 1440x360 with 4 Axes>"
      ]
     },
     "metadata": {
      "needs_background": "light"
     },
     "output_type": "display_data"
    }
   ],
   "source": [
    "plt.figure(figsize = (20, 5))\n",
    "for i in range(2):\n",
    "    plt.subplot(1, 2, i+1)\n",
    "    snb.heatmap(array[i], annot = True, fmt = '.2f')\n",
    "    plt.ylabel('Actual')\n",
    "    plt.xlabel('Predicted')\n",
    "    plt.title(strings[i])\n",
    "plt.show()\n"
   ]
  }
 ],
 "metadata": {
  "accelerator": "GPU",
  "colab": {
   "collapsed_sections": [],
   "name": "Untitled1.ipynb",
   "provenance": []
  },
  "kernelspec": {
   "display_name": "Python 3",
   "language": "python",
   "name": "python3"
  },
  "language_info": {
   "codemirror_mode": {
    "name": "ipython",
    "version": 3
   },
   "file_extension": ".py",
   "mimetype": "text/x-python",
   "name": "python",
   "nbconvert_exporter": "python",
   "pygments_lexer": "ipython3",
   "version": "3.7.3"
  }
 },
 "nbformat": 4,
 "nbformat_minor": 1
}
